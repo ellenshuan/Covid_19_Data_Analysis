{
 "cells": [
  {
   "cell_type": "markdown",
   "metadata": {},
   "source": [
    "# Import Dependecies and Load Data\n"
   ]
  },
  {
   "cell_type": "code",
   "execution_count": 16,
   "metadata": {},
   "outputs": [],
   "source": [
    "#import depen.\n",
    "import pandas as pd\n",
    "from sklearn.model_selection import train_test_split\n",
    "import matplotlib.pyplot as plt\n",
    "import seaborn as sns\n",
    "import numpy as np\n",
    "from sklearn.linear_model import LinearRegression"
   ]
  },
  {
   "cell_type": "code",
   "execution_count": 4,
   "metadata": {},
   "outputs": [],
   "source": [
    "#load the data\n",
    "df = pd.read_csv(\"./Resources/total_cases_vaccinations_data_for_usa.csv\")"
   ]
  },
  {
   "cell_type": "code",
   "execution_count": 5,
   "metadata": {
    "scrolled": true
   },
   "outputs": [
    {
     "data": {
      "text/html": [
       "<div>\n",
       "<style scoped>\n",
       "    .dataframe tbody tr th:only-of-type {\n",
       "        vertical-align: middle;\n",
       "    }\n",
       "\n",
       "    .dataframe tbody tr th {\n",
       "        vertical-align: top;\n",
       "    }\n",
       "\n",
       "    .dataframe thead th {\n",
       "        text-align: right;\n",
       "    }\n",
       "</style>\n",
       "<table border=\"1\" class=\"dataframe\">\n",
       "  <thead>\n",
       "    <tr style=\"text-align: right;\">\n",
       "      <th></th>\n",
       "      <th>date</th>\n",
       "      <th>tot_cases</th>\n",
       "      <th>new_case</th>\n",
       "      <th>tot_death</th>\n",
       "      <th>new_death</th>\n",
       "      <th>country</th>\n",
       "      <th>iso_code</th>\n",
       "      <th>total_vaccinations</th>\n",
       "      <th>people_vaccinated</th>\n",
       "      <th>people_fully_vaccinated</th>\n",
       "      <th>daily_vaccinations</th>\n",
       "      <th>total_vaccinations_per_hundred</th>\n",
       "      <th>people_vaccinated_per_hundred</th>\n",
       "      <th>people_fully_vaccinated_per_hundred</th>\n",
       "      <th>daily_vaccinations_per_million</th>\n",
       "      <th>vaccines</th>\n",
       "    </tr>\n",
       "  </thead>\n",
       "  <tbody>\n",
       "    <tr>\n",
       "      <th>0</th>\n",
       "      <td>2021-01-14</td>\n",
       "      <td>23214965.0</td>\n",
       "      <td>228133.0</td>\n",
       "      <td>387819.0</td>\n",
       "      <td>3950.0</td>\n",
       "      <td>United States</td>\n",
       "      <td>USA</td>\n",
       "      <td>11148991.0</td>\n",
       "      <td>9690757.0</td>\n",
       "      <td>1342086.0</td>\n",
       "      <td>747082.0</td>\n",
       "      <td>3.33</td>\n",
       "      <td>2.90</td>\n",
       "      <td>0.40</td>\n",
       "      <td>2234.0</td>\n",
       "      <td>Moderna, Pfizer/BioNTech</td>\n",
       "    </tr>\n",
       "    <tr>\n",
       "      <th>1</th>\n",
       "      <td>2021-01-15</td>\n",
       "      <td>23462882.0</td>\n",
       "      <td>247917.0</td>\n",
       "      <td>391470.0</td>\n",
       "      <td>3651.0</td>\n",
       "      <td>United States</td>\n",
       "      <td>USA</td>\n",
       "      <td>12279180.0</td>\n",
       "      <td>10595866.0</td>\n",
       "      <td>1610524.0</td>\n",
       "      <td>798707.0</td>\n",
       "      <td>3.67</td>\n",
       "      <td>3.17</td>\n",
       "      <td>0.48</td>\n",
       "      <td>2388.0</td>\n",
       "      <td>Moderna, Pfizer/BioNTech</td>\n",
       "    </tr>\n",
       "    <tr>\n",
       "      <th>2</th>\n",
       "      <td>2021-01-19</td>\n",
       "      <td>24154192.0</td>\n",
       "      <td>148915.0</td>\n",
       "      <td>400891.0</td>\n",
       "      <td>2334.0</td>\n",
       "      <td>United States</td>\n",
       "      <td>USA</td>\n",
       "      <td>15707588.0</td>\n",
       "      <td>13595803.0</td>\n",
       "      <td>2023124.0</td>\n",
       "      <td>911493.0</td>\n",
       "      <td>4.70</td>\n",
       "      <td>4.07</td>\n",
       "      <td>0.60</td>\n",
       "      <td>2725.0</td>\n",
       "      <td>Moderna, Pfizer/BioNTech</td>\n",
       "    </tr>\n",
       "    <tr>\n",
       "      <th>3</th>\n",
       "      <td>2021-01-20</td>\n",
       "      <td>24341199.0</td>\n",
       "      <td>187007.0</td>\n",
       "      <td>405278.0</td>\n",
       "      <td>4387.0</td>\n",
       "      <td>United States</td>\n",
       "      <td>USA</td>\n",
       "      <td>16525281.0</td>\n",
       "      <td>14270441.0</td>\n",
       "      <td>2161419.0</td>\n",
       "      <td>892403.0</td>\n",
       "      <td>4.94</td>\n",
       "      <td>4.27</td>\n",
       "      <td>0.65</td>\n",
       "      <td>2668.0</td>\n",
       "      <td>Moderna, Pfizer/BioNTech</td>\n",
       "    </tr>\n",
       "    <tr>\n",
       "      <th>4</th>\n",
       "      <td>2021-01-21</td>\n",
       "      <td>24529591.0</td>\n",
       "      <td>188392.0</td>\n",
       "      <td>409289.0</td>\n",
       "      <td>4011.0</td>\n",
       "      <td>United States</td>\n",
       "      <td>USA</td>\n",
       "      <td>17546374.0</td>\n",
       "      <td>15053257.0</td>\n",
       "      <td>2394961.0</td>\n",
       "      <td>913912.0</td>\n",
       "      <td>5.25</td>\n",
       "      <td>4.50</td>\n",
       "      <td>0.72</td>\n",
       "      <td>2733.0</td>\n",
       "      <td>Moderna, Pfizer/BioNTech</td>\n",
       "    </tr>\n",
       "  </tbody>\n",
       "</table>\n",
       "</div>"
      ],
      "text/plain": [
       "         date   tot_cases  new_case  tot_death  new_death        country  \\\n",
       "0  2021-01-14  23214965.0  228133.0   387819.0     3950.0  United States   \n",
       "1  2021-01-15  23462882.0  247917.0   391470.0     3651.0  United States   \n",
       "2  2021-01-19  24154192.0  148915.0   400891.0     2334.0  United States   \n",
       "3  2021-01-20  24341199.0  187007.0   405278.0     4387.0  United States   \n",
       "4  2021-01-21  24529591.0  188392.0   409289.0     4011.0  United States   \n",
       "\n",
       "  iso_code  total_vaccinations  people_vaccinated  people_fully_vaccinated  \\\n",
       "0      USA          11148991.0          9690757.0                1342086.0   \n",
       "1      USA          12279180.0         10595866.0                1610524.0   \n",
       "2      USA          15707588.0         13595803.0                2023124.0   \n",
       "3      USA          16525281.0         14270441.0                2161419.0   \n",
       "4      USA          17546374.0         15053257.0                2394961.0   \n",
       "\n",
       "   daily_vaccinations  total_vaccinations_per_hundred  \\\n",
       "0            747082.0                            3.33   \n",
       "1            798707.0                            3.67   \n",
       "2            911493.0                            4.70   \n",
       "3            892403.0                            4.94   \n",
       "4            913912.0                            5.25   \n",
       "\n",
       "   people_vaccinated_per_hundred  people_fully_vaccinated_per_hundred  \\\n",
       "0                           2.90                                 0.40   \n",
       "1                           3.17                                 0.48   \n",
       "2                           4.07                                 0.60   \n",
       "3                           4.27                                 0.65   \n",
       "4                           4.50                                 0.72   \n",
       "\n",
       "   daily_vaccinations_per_million                  vaccines  \n",
       "0                          2234.0  Moderna, Pfizer/BioNTech  \n",
       "1                          2388.0  Moderna, Pfizer/BioNTech  \n",
       "2                          2725.0  Moderna, Pfizer/BioNTech  \n",
       "3                          2668.0  Moderna, Pfizer/BioNTech  \n",
       "4                          2733.0  Moderna, Pfizer/BioNTech  "
      ]
     },
     "execution_count": 5,
     "metadata": {},
     "output_type": "execute_result"
    }
   ],
   "source": [
    "df.head()"
   ]
  },
  {
   "cell_type": "code",
   "execution_count": 6,
   "metadata": {},
   "outputs": [
    {
     "data": {
      "text/plain": [
       "date                                    object\n",
       "tot_cases                              float64\n",
       "new_case                               float64\n",
       "tot_death                              float64\n",
       "new_death                              float64\n",
       "country                                 object\n",
       "iso_code                                object\n",
       "total_vaccinations                     float64\n",
       "people_vaccinated                      float64\n",
       "people_fully_vaccinated                float64\n",
       "daily_vaccinations                     float64\n",
       "total_vaccinations_per_hundred         float64\n",
       "people_vaccinated_per_hundred          float64\n",
       "people_fully_vaccinated_per_hundred    float64\n",
       "daily_vaccinations_per_million         float64\n",
       "vaccines                                object\n",
       "dtype: object"
      ]
     },
     "execution_count": 6,
     "metadata": {},
     "output_type": "execute_result"
    }
   ],
   "source": [
    "df.dtypes"
   ]
  },
  {
   "cell_type": "code",
   "execution_count": 7,
   "metadata": {},
   "outputs": [
    {
     "data": {
      "text/plain": [
       "date                                   30\n",
       "tot_cases                              30\n",
       "new_case                               30\n",
       "tot_death                              30\n",
       "new_death                              30\n",
       "country                                30\n",
       "iso_code                               30\n",
       "total_vaccinations                     30\n",
       "people_vaccinated                      30\n",
       "people_fully_vaccinated                30\n",
       "daily_vaccinations                     30\n",
       "total_vaccinations_per_hundred         30\n",
       "people_vaccinated_per_hundred          30\n",
       "people_fully_vaccinated_per_hundred    30\n",
       "daily_vaccinations_per_million         30\n",
       "vaccines                               30\n",
       "dtype: int64"
      ]
     },
     "execution_count": 7,
     "metadata": {},
     "output_type": "execute_result"
    }
   ],
   "source": [
    "df.count()"
   ]
  },
  {
   "cell_type": "code",
   "execution_count": 8,
   "metadata": {},
   "outputs": [],
   "source": [
    "columns = [\"new_case\", \"new_death\", \"daily_vaccinations\"]"
   ]
  },
  {
   "cell_type": "code",
   "execution_count": 9,
   "metadata": {},
   "outputs": [],
   "source": [
    "df = df.loc[:, columns].copy()"
   ]
  },
  {
   "cell_type": "code",
   "execution_count": 10,
   "metadata": {
    "scrolled": true
   },
   "outputs": [
    {
     "data": {
      "text/html": [
       "<div>\n",
       "<style scoped>\n",
       "    .dataframe tbody tr th:only-of-type {\n",
       "        vertical-align: middle;\n",
       "    }\n",
       "\n",
       "    .dataframe tbody tr th {\n",
       "        vertical-align: top;\n",
       "    }\n",
       "\n",
       "    .dataframe thead th {\n",
       "        text-align: right;\n",
       "    }\n",
       "</style>\n",
       "<table border=\"1\" class=\"dataframe\">\n",
       "  <thead>\n",
       "    <tr style=\"text-align: right;\">\n",
       "      <th></th>\n",
       "      <th>new_case</th>\n",
       "      <th>new_death</th>\n",
       "      <th>daily_vaccinations</th>\n",
       "    </tr>\n",
       "  </thead>\n",
       "  <tbody>\n",
       "    <tr>\n",
       "      <th>0</th>\n",
       "      <td>228133.0</td>\n",
       "      <td>3950.0</td>\n",
       "      <td>747082.0</td>\n",
       "    </tr>\n",
       "    <tr>\n",
       "      <th>1</th>\n",
       "      <td>247917.0</td>\n",
       "      <td>3651.0</td>\n",
       "      <td>798707.0</td>\n",
       "    </tr>\n",
       "    <tr>\n",
       "      <th>2</th>\n",
       "      <td>148915.0</td>\n",
       "      <td>2334.0</td>\n",
       "      <td>911493.0</td>\n",
       "    </tr>\n",
       "    <tr>\n",
       "      <th>3</th>\n",
       "      <td>187007.0</td>\n",
       "      <td>4387.0</td>\n",
       "      <td>892403.0</td>\n",
       "    </tr>\n",
       "    <tr>\n",
       "      <th>4</th>\n",
       "      <td>188392.0</td>\n",
       "      <td>4011.0</td>\n",
       "      <td>913912.0</td>\n",
       "    </tr>\n",
       "  </tbody>\n",
       "</table>\n",
       "</div>"
      ],
      "text/plain": [
       "   new_case  new_death  daily_vaccinations\n",
       "0  228133.0     3950.0            747082.0\n",
       "1  247917.0     3651.0            798707.0\n",
       "2  148915.0     2334.0            911493.0\n",
       "3  187007.0     4387.0            892403.0\n",
       "4  188392.0     4011.0            913912.0"
      ]
     },
     "execution_count": 10,
     "metadata": {},
     "output_type": "execute_result"
    }
   ],
   "source": [
    "df.head()"
   ]
  },
  {
   "cell_type": "code",
   "execution_count": 11,
   "metadata": {},
   "outputs": [],
   "source": [
    "y = df.daily_vaccinations \n",
    "\n",
    "X = df.drop(columns = [\"daily_vaccinations\"],axis =1)\n",
    "\n",
    "from sklearn.model_selection import train_test_split\n",
    "X_train, X_test, y_train, y_test = train_test_split(X,y,random_state=1)\n",
    "\n",
    "print(X_train.shape)\n",
    "print(y_train.shape)\n",
    "\n",
    "model = LinearRegression()\n",
    "\n",
    "model.fit(X, y)\n",
    "\n",
    "y_pred = model.predict(X)\n",
    "print(y_pred.shape)"
   ]
  },
  {
   "cell_type": "code",
   "execution_count": 21,
   "metadata": {},
   "outputs": [
    {
     "data": {
      "text/html": [
       "<div>\n",
       "<style scoped>\n",
       "    .dataframe tbody tr th:only-of-type {\n",
       "        vertical-align: middle;\n",
       "    }\n",
       "\n",
       "    .dataframe tbody tr th {\n",
       "        vertical-align: top;\n",
       "    }\n",
       "\n",
       "    .dataframe thead th {\n",
       "        text-align: right;\n",
       "    }\n",
       "</style>\n",
       "<table border=\"1\" class=\"dataframe\">\n",
       "  <thead>\n",
       "    <tr style=\"text-align: right;\">\n",
       "      <th></th>\n",
       "      <th>new_case</th>\n",
       "      <th>new_death</th>\n",
       "    </tr>\n",
       "  </thead>\n",
       "  <tbody>\n",
       "    <tr>\n",
       "      <th>0</th>\n",
       "      <td>228133.0</td>\n",
       "      <td>3950.0</td>\n",
       "    </tr>\n",
       "    <tr>\n",
       "      <th>1</th>\n",
       "      <td>247917.0</td>\n",
       "      <td>3651.0</td>\n",
       "    </tr>\n",
       "    <tr>\n",
       "      <th>2</th>\n",
       "      <td>148915.0</td>\n",
       "      <td>2334.0</td>\n",
       "    </tr>\n",
       "    <tr>\n",
       "      <th>3</th>\n",
       "      <td>187007.0</td>\n",
       "      <td>4387.0</td>\n",
       "    </tr>\n",
       "    <tr>\n",
       "      <th>4</th>\n",
       "      <td>188392.0</td>\n",
       "      <td>4011.0</td>\n",
       "    </tr>\n",
       "    <tr>\n",
       "      <th>5</th>\n",
       "      <td>191340.0</td>\n",
       "      <td>3937.0</td>\n",
       "    </tr>\n",
       "    <tr>\n",
       "      <th>6</th>\n",
       "      <td>170442.0</td>\n",
       "      <td>3401.0</td>\n",
       "    </tr>\n",
       "    <tr>\n",
       "      <th>7</th>\n",
       "      <td>140000.0</td>\n",
       "      <td>1918.0</td>\n",
       "    </tr>\n",
       "    <tr>\n",
       "      <th>8</th>\n",
       "      <td>134279.0</td>\n",
       "      <td>1947.0</td>\n",
       "    </tr>\n",
       "    <tr>\n",
       "      <th>9</th>\n",
       "      <td>150448.0</td>\n",
       "      <td>3723.0</td>\n",
       "    </tr>\n",
       "    <tr>\n",
       "      <th>10</th>\n",
       "      <td>155839.0</td>\n",
       "      <td>4061.0</td>\n",
       "    </tr>\n",
       "    <tr>\n",
       "      <th>11</th>\n",
       "      <td>158513.0</td>\n",
       "      <td>3817.0</td>\n",
       "    </tr>\n",
       "    <tr>\n",
       "      <th>12</th>\n",
       "      <td>163691.0</td>\n",
       "      <td>3540.0</td>\n",
       "    </tr>\n",
       "    <tr>\n",
       "      <th>13</th>\n",
       "      <td>139932.0</td>\n",
       "      <td>2867.0</td>\n",
       "    </tr>\n",
       "    <tr>\n",
       "      <th>14</th>\n",
       "      <td>111038.0</td>\n",
       "      <td>1946.0</td>\n",
       "    </tr>\n",
       "    <tr>\n",
       "      <th>15</th>\n",
       "      <td>125825.0</td>\n",
       "      <td>1682.0</td>\n",
       "    </tr>\n",
       "    <tr>\n",
       "      <th>16</th>\n",
       "      <td>117464.0</td>\n",
       "      <td>3439.0</td>\n",
       "    </tr>\n",
       "    <tr>\n",
       "      <th>17</th>\n",
       "      <td>121742.0</td>\n",
       "      <td>3718.0</td>\n",
       "    </tr>\n",
       "    <tr>\n",
       "      <th>18</th>\n",
       "      <td>124358.0</td>\n",
       "      <td>5122.0</td>\n",
       "    </tr>\n",
       "    <tr>\n",
       "      <th>19</th>\n",
       "      <td>126976.0</td>\n",
       "      <td>3505.0</td>\n",
       "    </tr>\n",
       "    <tr>\n",
       "      <th>20</th>\n",
       "      <td>106300.0</td>\n",
       "      <td>2775.0</td>\n",
       "    </tr>\n",
       "    <tr>\n",
       "      <th>21</th>\n",
       "      <td>90031.0</td>\n",
       "      <td>1426.0</td>\n",
       "    </tr>\n",
       "    <tr>\n",
       "      <th>22</th>\n",
       "      <td>81706.0</td>\n",
       "      <td>1546.0</td>\n",
       "    </tr>\n",
       "    <tr>\n",
       "      <th>23</th>\n",
       "      <td>91034.0</td>\n",
       "      <td>2806.0</td>\n",
       "    </tr>\n",
       "    <tr>\n",
       "      <th>24</th>\n",
       "      <td>97309.0</td>\n",
       "      <td>3645.0</td>\n",
       "    </tr>\n",
       "    <tr>\n",
       "      <th>25</th>\n",
       "      <td>102004.0</td>\n",
       "      <td>3589.0</td>\n",
       "    </tr>\n",
       "    <tr>\n",
       "      <th>26</th>\n",
       "      <td>99413.0</td>\n",
       "      <td>5520.0</td>\n",
       "    </tr>\n",
       "    <tr>\n",
       "      <th>27</th>\n",
       "      <td>88193.0</td>\n",
       "      <td>3317.0</td>\n",
       "    </tr>\n",
       "    <tr>\n",
       "      <th>28</th>\n",
       "      <td>68569.0</td>\n",
       "      <td>1317.0</td>\n",
       "    </tr>\n",
       "    <tr>\n",
       "      <th>29</th>\n",
       "      <td>57970.0</td>\n",
       "      <td>1396.0</td>\n",
       "    </tr>\n",
       "  </tbody>\n",
       "</table>\n",
       "</div>"
      ],
      "text/plain": [
       "    new_case  new_death\n",
       "0   228133.0     3950.0\n",
       "1   247917.0     3651.0\n",
       "2   148915.0     2334.0\n",
       "3   187007.0     4387.0\n",
       "4   188392.0     4011.0\n",
       "5   191340.0     3937.0\n",
       "6   170442.0     3401.0\n",
       "7   140000.0     1918.0\n",
       "8   134279.0     1947.0\n",
       "9   150448.0     3723.0\n",
       "10  155839.0     4061.0\n",
       "11  158513.0     3817.0\n",
       "12  163691.0     3540.0\n",
       "13  139932.0     2867.0\n",
       "14  111038.0     1946.0\n",
       "15  125825.0     1682.0\n",
       "16  117464.0     3439.0\n",
       "17  121742.0     3718.0\n",
       "18  124358.0     5122.0\n",
       "19  126976.0     3505.0\n",
       "20  106300.0     2775.0\n",
       "21   90031.0     1426.0\n",
       "22   81706.0     1546.0\n",
       "23   91034.0     2806.0\n",
       "24   97309.0     3645.0\n",
       "25  102004.0     3589.0\n",
       "26   99413.0     5520.0\n",
       "27   88193.0     3317.0\n",
       "28   68569.0     1317.0\n",
       "29   57970.0     1396.0"
      ]
     },
     "execution_count": 21,
     "metadata": {},
     "output_type": "execute_result"
    }
   ],
   "source": [
    "X"
   ]
  },
  {
   "cell_type": "code",
   "execution_count": 24,
   "metadata": {},
   "outputs": [
    {
     "data": {
      "image/png": "[encoded data removed]",
      "text/plain": [
       "<Figure size 432x288 with 1 Axes>"
      ]
     },
     "metadata": {
      "needs_background": "light"
     },
     "output_type": "display_data"
    }
   ],
   "source": [
    "plt.scatter(X[\"new_case\"],y)\n",
    "plt.plot(X[\"new_case\"], y_pred, color='red')\n",
    "plt.show()"
   ]
  },
  {
   "cell_type": "code",
   "execution_count": 25,
   "metadata": {
    "scrolled": true
   },
   "outputs": [
    {
     "data": {
      "image/png": "[encoded data removed]",
      "text/plain": [
       "<Figure size 432x288 with 1 Axes>"
      ]
     },
     "metadata": {
      "needs_background": "light"
     },
     "output_type": "display_data"
    }
   ],
   "source": [
    "plt.scatter(X[\"new_death\"], y)\n",
    "plt.plot(X[\"new_death\"], y_pred, color='green')\n",
    "plt.show()"
   ]
  },
  {
   "cell_type": "code",
   "execution_count": null,
   "metadata": {},
   "outputs": [],
   "source": []
  },
  {
   "cell_type": "code",
   "execution_count": 26,
   "metadata": {},
   "outputs": [
    {
     "name": "stdout",
     "output_type": "stream",
     "text": [
      "(22, 2)\n",
      "(22,)\n",
      "(30,)\n"
     ]
    }
   ],
   "source": [
    "y = df.new_death\n",
    "\n",
    "X = df.drop(columns = [\"new_death\"],axis =1)\n",
    "\n",
    "from sklearn.model_selection import train_test_split\n",
    "X_train, X_test, y_train, y_test = train_test_split(X,y,random_state=1)\n",
    "\n",
    "print(X_train.shape)\n",
    "print(y_train.shape)\n",
    "\n",
    "model = LinearRegression()\n",
    "\n",
    "model.fit(X, y)\n",
    "\n",
    "y_pred = model.predict(X)\n",
    "print(y_pred.shape)"
   ]
  },
  {
   "cell_type": "code",
   "execution_count": 27,
   "metadata": {},
   "outputs": [
    {
     "data": {
      "image/png": "[encoded data removed]",
      "text/plain": [
       "<Figure size 432x288 with 1 Axes>"
      ]
     },
     "metadata": {
      "needs_background": "light"
     },
     "output_type": "display_data"
    }
   ],
   "source": [
    "plt.scatter(X[\"new_case\"], y)\n",
    "plt.plot(X[\"new_case\"], y_pred, color='green')\n",
    "plt.show()"
   ]
  },
  {
   "cell_type": "code",
   "execution_count": 28,
   "metadata": {},
   "outputs": [
    {
     "data": {
      "image/png": "[encoded data removed]",
      "text/plain": [
       "<Figure size 432x288 with 1 Axes>"
      ]
     },
     "metadata": {
      "needs_background": "light"
     },
     "output_type": "display_data"
    }
   ],
   "source": [
    "plt.scatter(X[\"daily_vaccinations\"], y)\n",
    "plt.plot(X[\"daily_vaccinations\"], y_pred, color='red')\n",
    "plt.show()"
   ]
  },
  {
   "cell_type": "code",
   "execution_count": 29,
   "metadata": {},
   "outputs": [
    {
     "name": "stdout",
     "output_type": "stream",
     "text": [
      "[0.03403087 0.00416064]\n",
      "-6691.992936228469\n"
     ]
    }
   ],
   "source": [
    "print(model.coef_)\n",
    "print(model.intercept_)"
   ]
  }
 ],
 "metadata": {
  "kernelspec": {
   "display_name": "PythonData",
   "language": "python",
   "name": "pythondata"
  },
  "language_info": {
   "codemirror_mode": {
    "name": "ipython",
    "version": 3
   },
   "file_extension": ".py",
   "mimetype": "text/x-python",
   "name": "python",
   "nbconvert_exporter": "python",
   "pygments_lexer": "ipython3",
   "version": "3.8.3"
  }
 },
 "nbformat": 4,
 "nbformat_minor": 4
}
